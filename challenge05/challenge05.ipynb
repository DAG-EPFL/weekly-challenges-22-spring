{
 "cells": [
  {
   "cell_type": "markdown",
   "metadata": {},
   "source": [
    "<img src=\"https://i.ibb.co/hcrKx44/Weekly-Challenge-Banner.png\" >"
   ]
  },
  {
   "cell_type": "markdown",
   "metadata": {},
   "source": [
    "# Weekly Challenge 5\n",
    "##  Description\n",
    "Welcome to the 5th challenge! This semester features 6 challenges with increasing difficulty:\n",
    "* 2 \"easy\" challenges (challenges 1-2)\n",
    "* 2 \"medium\" challenges (challenges 3-4)\n",
    "* 2 \"hard\" challenges (challenges 5-6)\n",
    "\n",
    "\n",
    "## The task\n",
    " \n",
    "After a tiring day of EPFL classes, you decide to treat yourself to FIFA 22 video game for the night. Before you start the game, you have to manage your own team in order to compete with your homies. You are provided with a dataset (_fifa22\\_players\\_data.csv_) containing basic information about all the current players. \n",
    "\n",
    "The dataset is adapted from the [FIFA 22 Complete Player Dataset](https://www.kaggle.com/cashncarry/fifa-22-complete-player-dataset) on Kaggle.\n",
    "Here's a brief description of the dataset:\n",
    "- FullName: Name of the player\n",
    "- Overall: Overall score of the player\n",
    "- Positions: The player's position(s) \n",
    "- ValueEUR: the market value of the player in EUR\n",
    "\n",
    "**Challenge:** Suppose you have just founded a new football club and is ambitious enough to build the best team in the world. If you have a budget of **36 million EUR**, **what is the most competitive team you can make (i.e., with the best Overall score)?**\n",
    "\n",
    "*Hints:* \n",
    "1. Consider 'ValueEUR' as the purchase price of the player, and try to maximize the total 'Overall' score\n",
    "2. Suppose you only need 11 players and decide on a 4-3-3 holding (1 GK, 1 LB, 1 RB, 2 CB, 1 CDM, 2 CM, 1 LW, 1 RW, 1 ST).\n",
    "\n",
    "Note: a 4-3-3 holding in football looks like this:\n",
    "![](formation433.jpg)\n",
    "\n",
    "3. For simplicity, in case of multiple positions, keep the first one. Later you might need to create dummy variables for it.\n",
    "4. Filter out the players with positions we don't need, and keep only the top 200 (in terms of Overall score) players for each position (if you use the whole dataset, you might face unbearable running time)\n",
    "5. You might solve a linear programming system by using package `cvxpy`, for more information please check out the [documentation](https://www.cvxpy.org/)"
   ]
  },
  {
   "cell_type": "markdown",
   "metadata": {},
   "source": [
    "## Your code"
   ]
  },
  {
   "cell_type": "code",
   "execution_count": null,
   "metadata": {},
   "outputs": [],
   "source": [
    "import numpy as np\n",
    "import pandas as pd\n",
    "import cvxpy as cp\n",
    "\n",
    "df = pd.read_csv(\"fifa22_players_data.csv\")"
   ]
  },
  {
   "cell_type": "code",
   "execution_count": null,
   "metadata": {},
   "outputs": [],
   "source": [
    "#################################################\n",
    "############# YOUR CODE STARTS HERE #############\n",
    "#################################################\n",
    "\n",
    "pass\n",
    "\n",
    "#################################################\n",
    "############## YOUR CODE ENDS HERE ##############\n",
    "#################################################"
   ]
  },
  {
   "cell_type": "markdown",
   "metadata": {},
   "source": [
    "## Submission\n",
    "\n",
    "Submit your code and answer here: https://forms.gle/e9Y5R9xmJ9bvLss6A \n",
    "\n",
    "The answer should feature the name of each player and their position as a list of tuples. \n",
    "\n",
    "Ex:\n",
    "* [(Player 1, GK), (Player 2, LB), ..., (Player 11, ST)]"
   ]
  }
 ],
 "metadata": {
  "interpreter": {
   "hash": "a55deee93b65293947bf564a19b9baa5220d7c527d8ce1dc6eb2823c26745fbe"
  },
  "kernelspec": {
   "display_name": "Python 3 (ipykernel)",
   "language": "python",
   "name": "python3"
  },
  "language_info": {
   "codemirror_mode": {
    "name": "ipython",
    "version": 3
   },
   "file_extension": ".py",
   "mimetype": "text/x-python",
   "name": "python",
   "nbconvert_exporter": "python",
   "pygments_lexer": "ipython3",
   "version": "3.8.12"
  }
 },
 "nbformat": 4,
 "nbformat_minor": 2
}
