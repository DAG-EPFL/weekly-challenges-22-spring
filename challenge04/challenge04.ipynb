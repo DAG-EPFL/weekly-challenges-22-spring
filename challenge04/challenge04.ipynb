{
 "cells": [
  {
   "cell_type": "markdown",
   "metadata": {},
   "source": [
    "<img src=\"https://i.ibb.co/hcrKx44/Weekly-Challenge-Banner.png\" >\n",
    "\n",
    "# Weekly Challenge 4\n",
    "##  Description\n",
    "Welcome to the 4th challenge! This week, we will see how to apply our algorithm knowledge to find ways to make money in the financial markets. *Not investment advice etc.\n",
    "\n",
    "You are 13 weeks late on your algorithms course. You decide to sift through the videos at 10x speed.\n",
    "\n",
    "After 1 hour of intense speedrunning, you suddenly hear the professor joking about \"this is how you could theoretically make money\", so you rewind the video and hear the professor say: _\"The Bellman-Ford algorithm can be used by currency speculators to find arbitrages in foreign exchange (FOREX) markets.\"_\n",
    "\n",
    "After a few Google searches, you gather the following definitions:\n",
    "\n",
    "* The **[Bellman-Ford algorithm](https://en.wikipedia.org/wiki/Bellman%E2%80%93Ford_algorithm)** is used to find the shortest path from a source vertice to every other vertice.\n",
    "\n",
    "* An **[arbitrage](https://en.wikipedia.org/wiki/Arbitrage)** is the practice of simultaneously buying and selling the same asset in different markets to profit from tiny differences in the asset's listed prices. \n",
    "    * Here's an example based on the currency graph below:\n",
    "        * 1 U.S. dollar bought 0.82 Euro, 1 Euro bought 129.7 Japanese Yen, 1 Japanese Yen bought 0.12 Turkish Lira, and 1 Turkish Lira bought 0.08 U.S. dollars. \n",
    "        * Following this graph, a trader can start with 1 U.S. dollar and buy U.S. dollars, thus turning 1 USD into:\n",
    "        $$0.82 \\times 129.7 \\times 0.12 \\times 0.08 = 1.02 \\;\\text{USD}$$\n",
    "            * The trader thus made a **2%** profit.\n",
    "            \n",
    "(If the image doesn't display, please open _currency_graph.png_ in the _challenge04_ folder.)\n",
    "\n",
    "<img src=\"currency_graph.png\">\n",
    "\n",
    "\n",
    "## The task\n",
    "You find out that in order to find an arbitrage you must find a path between the given currencies whose **product** of exchange rates is greater than 1. \n",
    "\n",
    "In other words, find an infinite loop from the inconsistencies in <span style='color:red'>_arbitrage_graph_</span> (the input array below) to make, on paper, infinite money.\n",
    "\n",
    "Of course, you can also try to optimize your result by finding the **maximal** product of exchange rates in the graph (i.e., the best arbitrage).\n",
    "\n",
    "**Hint:** \n",
    "* The Bellman-Ford algorithm is a *shortest path algorithm*. Such algorithms aim at **minimizing** the **sum** of the weights between two vertices in a graph."
   ]
  },
  {
   "cell_type": "code",
   "execution_count": 1,
   "metadata": {},
   "outputs": [],
   "source": [
    "# USD: US dollar\n",
    "# EUR: Euro\n",
    "# GBP: Great Britain Pound\n",
    "# CHF: Swiss franc\n",
    "# CAD: Canadian dollar\n",
    "\n",
    "arbitrage_graph = [[\"USD\", \"EUR\", 0.741], [\"USD\", \"GBP\", 0.657], [\"USD\", \"CHF\", 1.061], [\"USD\", \"CAD\", 1.005],\n",
    "                   [\"EUR\", \"USD\", 1.349], [\"EUR\", \"GBP\", 0.888], [\"EUR\", \"CHF\", 1.433], [\"EUR\", \"CAD\", 1.366],\n",
    "                   [\"GBP\", \"USD\", 1.521], [\"GBP\", \"EUR\", 1.126], [\"GBP\", \"CHF\", 1.614], [\"GBP\", \"CAD\", 1.538],\n",
    "                   [\"CHF\", \"USD\", 0.942], [\"CHF\", \"EUR\", 0.698], [\"CHF\", \"GBP\", 0.619], [\"CHF\", \"CAD\", 0.953],\n",
    "                   [\"CAD\", \"USD\", 0.995], [\"CAD\", \"EUR\", 0.732], [\"CAD\", \"GBP\", 0.650], [\"CAD\", \"CHF\", 1.049]]"
   ]
  },
  {
   "cell_type": "code",
   "execution_count": 2,
   "metadata": {},
   "outputs": [],
   "source": [
    "def find_arbitrage(graph):\n",
    "    return None"
   ]
  },
  {
   "cell_type": "markdown",
   "metadata": {},
   "source": [
    "### Submit your answer here: https://forms.gle/acAxPR63qx9pED6K6. \n",
    "* Your answer should simply the list of currencies that form the cycle of your arbitrage, if there is one. For example: [USD, EUR, CHF, USD]. If you did not find a cycle, simply answer **None**.\n",
    "* We will take into result both algorithm efficiency (memory and time) as well as the quality of the arbitrage"
   ]
  }
 ],
 "metadata": {
  "kernelspec": {
   "display_name": "Python 3 (ipykernel)",
   "language": "python",
   "name": "python3"
  },
  "language_info": {
   "codemirror_mode": {
    "name": "ipython",
    "version": 3
   },
   "file_extension": ".py",
   "mimetype": "text/x-python",
   "name": "python",
   "nbconvert_exporter": "python",
   "pygments_lexer": "ipython3",
   "version": "3.8.12"
  }
 },
 "nbformat": 4,
 "nbformat_minor": 1
}
