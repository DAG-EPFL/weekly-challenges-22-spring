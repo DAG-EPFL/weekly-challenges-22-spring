{
 "cells": [
  {
   "cell_type": "markdown",
   "metadata": {},
   "source": [
    "<img src=\"https://i.ibb.co/hcrKx44/Weekly-Challenge-Banner.png\" >\n",
    "\n",
    "# Weekly Challenge 4\n",
    "##  Description\n",
    "Welcome to the 4th challenge! This week, we will see how to apply our algorithm knowledge to find ways to make money in the financial markets. *Not investment advice etc.\n",
    "\n",
    "You are 13 weeks late on your algorithms course. You decide to sift through the videos at 10x speed.\n",
    "\n",
    "After 1 hour of intense speedrunning, you suddenly hear the professor joking about \"this is how you could theoretically make money\", so you rewind the video and hear the professor say: _\"The Bellman-Ford algorithm can be used by currency speculators to find arbitrages in foreign exchange (FOREX) markets.\"_\n",
    "\n",
    "After a few Google searches, you gather the following definitions:\n",
    "\n",
    "* The **[Bellman-Ford algorithm](https://en.wikipedia.org/wiki/Bellman%E2%80%93Ford_algorithm)** is used to find the shortest path from a source vertice to every other vertice.\n",
    "\n",
    "* An **[arbitrage](https://en.wikipedia.org/wiki/Arbitrage)** is the practice of simultaneously buying and selling the same asset in different markets to profit from tiny differences in the asset's listed prices. \n",
    "    * Here's an example based on the currency graph below:\n",
    "        * 1 U.S. dollar bought 0.82 Euro, 1 Euro bought 129.7 Japanese Yen, 1 Japanese Yen bought 0.12 Turkish Lira, and 1 Turkish Lira bought 0.08 U.S. dollars. \n",
    "        * Following this graph, a trader can start with 1 U.S. dollar and buy U.S. dollars, thus turning 1 USD into:\n",
    "        $$0.82 \\times 129.7 \\times 0.12 \\times 0.08 = 1.02 \\;\\text{USD}$$\n",
    "            * The trader thus made a **2%** profit.\n",
    "\n",
    "<img src=\"currency_graph.png\">\n",
    "\n",
    "\n",
    "## The task\n",
    "You find out that in order to find an arbitrage you must find a path between the given currencies whose **product** of exchange rates is greater than 1. \n",
    "\n",
    "In other words, find an infinite loop from the inconsistencies in <span style='color:red'>_arbitrage_graph_</span> (the input array below) to make, on paper, infinite money.\n",
    "\n",
    "Of course, you can also try to optimize your result by finding the **maximal** product of exchange rates in the graph (i.e., the best arbitrage).\n",
    "\n",
    "**Hint:** \n",
    "* The Bellman-Ford algorithm is a *shortest path algorithm*. Such algorithms aim at **minimizing** the **sum** of the weights between two vertices in a graph.\n",
    "\n",
    "## Solution\n",
    "A solution is to create a directed graph in which the vertices are the currencies and the weight of the edges are the negated logarithm of the exchange rate of the currencies represented by the vertices the edge connect. For example, if exchange rate for currency $A$ to currency $B$ is $E$ then in the graph the directed edge connected $A$ to $B$ will have weight of $w_{AB} = -\\ln(E)$. \n",
    "\n",
    "Then we can simply find whether there is a negative weight cycle.\n",
    "\n",
    "You will find two example solutions here:\n",
    "* One using networkx which finds a non-optimal arbitrage\n",
    "* Another core solution that details the Bellman-Ford algorithm (**to be updated**)."
   ]
  },
  {
   "cell_type": "code",
   "execution_count": 1,
   "metadata": {},
   "outputs": [],
   "source": [
    "# Find an arbitrage in the given array.\n",
    "# P.S. In case you decide to use the given bellman_ford function, you'll need to replace the currency names with ints or modify the algo to run it\n",
    "\n",
    "# USD: US dollar\n",
    "# EUR: Euro\n",
    "# GBP: Great Britain Pound\n",
    "# CHF: Swiss franc\n",
    "# CAD: Canadian dollar\n",
    "\n",
    "arbitrage_graph = [[\"USD\", \"EUR\", 0.741], [\"USD\", \"GBP\", 0.657], [\"USD\", \"CHF\", 1.061], [\"USD\", \"CAD\", 1.005],\n",
    "                   [\"EUR\", \"USD\", 1.349], [\"EUR\", \"GBP\", 0.888], [\"EUR\", \"CHF\", 1.433], [\"EUR\", \"CAD\", 1.366],\n",
    "                   [\"GBP\", \"USD\", 1.521], [\"GBP\", \"EUR\", 1.126], [\"GBP\", \"CHF\", 1.614], [\"GBP\", \"CAD\", 1.538],\n",
    "                   [\"CHF\", \"USD\", 0.942], [\"CHF\", \"EUR\", 0.698], [\"CHF\", \"GBP\", 0.619], [\"CHF\", \"CAD\", 0.953],\n",
    "                   [\"CAD\", \"USD\", 0.995], [\"CAD\", \"EUR\", 0.732], [\"CAD\", \"GBP\", 0.650], [\"CAD\", \"CHF\", 1.049]]"
   ]
  },
  {
   "cell_type": "code",
   "execution_count": 2,
   "metadata": {},
   "outputs": [
    {
     "data": {
      "text/plain": [
       "'2.7.1'"
      ]
     },
     "execution_count": 2,
     "metadata": {},
     "output_type": "execute_result"
    }
   ],
   "source": [
    "from sys import maxsize\n",
    "\n",
    "import networkx as nx\n",
    "import numpy as np\n",
    "\n",
    "nx.__version__"
   ]
  },
  {
   "cell_type": "code",
   "execution_count": 3,
   "metadata": {},
   "outputs": [
    {
     "name": "stdout",
     "output_type": "stream",
     "text": [
      "Negative cycle with source = USD:\n",
      "Cycle: ['USD', 'EUR', 'GBP', 'USD']\n",
      "Arbitrage product: 1.000830168 (Profit: 0.083%) \n",
      "\n",
      "Negative cycle with source = GBP:\n",
      "Cycle: ['EUR', 'CHF', 'EUR']\n",
      "Arbitrage product: 1.000234 (Profit: 0.023%) \n",
      "\n",
      "Negative cycle with source = CAD:\n",
      "Cycle: ['USD', 'EUR', 'GBP', 'USD']\n",
      "Arbitrage product: 1.000830168 (Profit: 0.083%) \n",
      "\n",
      "Negative cycle with source = EUR:\n",
      "Cycle: ['USD', 'EUR', 'GBP', 'USD']\n",
      "Arbitrage product: 1.000830168 (Profit: 0.083%) \n",
      "\n",
      "Negative cycle with source = CHF:\n",
      "Cycle: ['USD', 'EUR', 'GBP', 'USD']\n",
      "Arbitrage product: 1.000830168 (Profit: 0.083%) \n",
      "\n"
     ]
    }
   ],
   "source": [
    "mapping = {k: i for i, k in enumerate(set(np.array(arbitrage_graph)[:, :-1].flatten()))}\n",
    "reverse_mapping = {v: k for k, v in mapping.items()}\n",
    "\n",
    "arr = np.array([[mapping[x] if x in mapping.keys() else -np.log(x) for x in c] for c in arbitrage_graph])\n",
    "\n",
    "G = nx.DiGraph()\n",
    "G = nx.from_edgelist(list(map(tuple, arr[:, :-1])), G)\n",
    "for i, (u, v) in enumerate(G.edges()):\n",
    "    G[int(u)][int(v)]['weight'] = arr[i, -1]\n",
    "\n",
    "for i in range(len(mapping)):\n",
    "    neg_cycle = nx.algorithms.shortest_paths.weighted.find_negative_cycle(G, i)\n",
    "    \n",
    "    print(f'Negative cycle with source = {reverse_mapping[i]}:')\n",
    "\n",
    "    print(f'Cycle: {[reverse_mapping[i] for i in neg_cycle]}')\n",
    "    \n",
    "    arbitrage_product = np.prod([np.exp(-G.get_edge_data(neg_cycle[i], neg_cycle[i+1])['weight']) for i in range(len(neg_cycle) -1)])\n",
    "    \n",
    "    print(f'Arbitrage product: {arbitrage_product} (Profit: {(arbitrage_product-1)*100:.3f}%) \\n')"
   ]
  },
  {
   "cell_type": "code",
   "execution_count": 7,
   "metadata": {},
   "outputs": [
    {
     "data": {
      "image/png": "[encoded data removed]",
      "text/plain": [
       "<Figure size 432x288 with 1 Axes>"
      ]
     },
     "metadata": {},
     "output_type": "display_data"
    }
   ],
   "source": [
    "nx.draw(G, pos=nx.spring_layout(G), with_labels=True)"
   ]
  },
  {
   "cell_type": "code",
   "execution_count": 5,
   "metadata": {
    "pycharm": {
     "name": "#%%\n"
    }
   },
   "outputs": [],
   "source": [
    "def find_arbitrage(graph):\n",
    "    mapping = {k: i for i, k in enumerate(set(np.array(arbitrage_graph)[:, :-1].flatten()))}\n",
    "    mapped_graph = [[mapping[x] if x in mapping.keys() else -np.log(x) for x in c] for c in graph]\n",
    "    \n",
    "    n_vertices = len(mapping)\n",
    "    n_edges = len(mapped_graph)\n",
    "    \n",
    "    def _find_arbitrage(graph, vertices, edges, src):\n",
    "        # Initialize distance of all vertices as infinite.\n",
    "        dis = [maxsize] * vertices\n",
    "\n",
    "        # initialize distance of source as 0\n",
    "        dis[src] = 0\n",
    "\n",
    "        # Relax all edges |V| - 1 times. A simple\n",
    "        # shortest path from src to any other\n",
    "        # vertex can have at-most |V| - 1 edges\n",
    "        for i in range(vertices - 1):\n",
    "            for j in range(edges):\n",
    "                if dis[graph[j][0]] + graph[j][2] < dis[graph[j][1]]:\n",
    "                    dis[graph[j][1]] = dis[graph[j][0]] + graph[j][2]\n",
    "\n",
    "        # check for negative-weight cycles.\n",
    "        # The above step guarantees shortest\n",
    "        # distances if graph doesn't contain\n",
    "        # negative weight cycle. If we get a\n",
    "        # shorter path, then there is a cycle.\n",
    "        for i in range(edges):\n",
    "            x = graph[i][0]\n",
    "            y = graph[i][1]\n",
    "            weight = graph[i][2]\n",
    "            if dis[x] != maxsize and dis[x] + weight < dis[y]:\n",
    "                print(\"Graph contains negative weight cycle\")\n",
    "\n",
    "        print(\"Vertex Distance from Source\")\n",
    "        for i in range(vertices):\n",
    "            print(\"%d\\t\\t%d\" % (i, dis[i]))\n",
    "    \n",
    "    for i in range(n_vertices):\n",
    "        print(f'Source: {reverse_mapping[i]}')\n",
    "        _find_arbitrage(mapped_graph, n_vertices, n_edges, i)\n",
    "        print()"
   ]
  },
  {
   "cell_type": "code",
   "execution_count": 6,
   "metadata": {},
   "outputs": [
    {
     "name": "stdout",
     "output_type": "stream",
     "text": [
      "Source: USD\n",
      "Graph contains negative weight cycle\n",
      "Graph contains negative weight cycle\n",
      "Graph contains negative weight cycle\n",
      "Graph contains negative weight cycle\n",
      "Graph contains negative weight cycle\n",
      "Graph contains negative weight cycle\n",
      "Vertex Distance from Source\n",
      "0\t\t0\n",
      "1\t\t0\n",
      "2\t\t0\n",
      "3\t\t0\n",
      "4\t\t0\n",
      "\n",
      "Source: GBP\n",
      "Graph contains negative weight cycle\n",
      "Graph contains negative weight cycle\n",
      "Graph contains negative weight cycle\n",
      "Graph contains negative weight cycle\n",
      "Graph contains negative weight cycle\n",
      "Graph contains negative weight cycle\n",
      "Vertex Distance from Source\n",
      "0\t\t0\n",
      "1\t\t0\n",
      "2\t\t0\n",
      "3\t\t0\n",
      "4\t\t0\n",
      "\n",
      "Source: CAD\n",
      "Graph contains negative weight cycle\n",
      "Graph contains negative weight cycle\n",
      "Graph contains negative weight cycle\n",
      "Graph contains negative weight cycle\n",
      "Graph contains negative weight cycle\n",
      "Graph contains negative weight cycle\n",
      "Vertex Distance from Source\n",
      "0\t\t0\n",
      "1\t\t0\n",
      "2\t\t0\n",
      "3\t\t0\n",
      "4\t\t0\n",
      "\n",
      "Source: EUR\n",
      "Graph contains negative weight cycle\n",
      "Graph contains negative weight cycle\n",
      "Graph contains negative weight cycle\n",
      "Graph contains negative weight cycle\n",
      "Graph contains negative weight cycle\n",
      "Graph contains negative weight cycle\n",
      "Vertex Distance from Source\n",
      "0\t\t0\n",
      "1\t\t0\n",
      "2\t\t0\n",
      "3\t\t0\n",
      "4\t\t0\n",
      "\n",
      "Source: CHF\n",
      "Graph contains negative weight cycle\n",
      "Graph contains negative weight cycle\n",
      "Graph contains negative weight cycle\n",
      "Graph contains negative weight cycle\n",
      "Graph contains negative weight cycle\n",
      "Graph contains negative weight cycle\n",
      "Vertex Distance from Source\n",
      "0\t\t0\n",
      "1\t\t0\n",
      "2\t\t0\n",
      "3\t\t0\n",
      "4\t\t0\n",
      "\n"
     ]
    }
   ],
   "source": [
    "find_arbitrage(arbitrage_graph)"
   ]
  }
 ],
 "metadata": {
  "kernelspec": {
   "display_name": "Python 3 (ipykernel)",
   "language": "python",
   "name": "python3"
  },
  "language_info": {
   "codemirror_mode": {
    "name": "ipython",
    "version": 3
   },
   "file_extension": ".py",
   "mimetype": "text/x-python",
   "name": "python",
   "nbconvert_exporter": "python",
   "pygments_lexer": "ipython3",
   "version": "3.8.12"
  }
 },
 "nbformat": 4,
 "nbformat_minor": 1
}
