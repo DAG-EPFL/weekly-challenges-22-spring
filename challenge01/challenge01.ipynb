{
 "cells": [
  {
   "cell_type": "markdown",
   "id": "9cebc9cf",
   "metadata": {},
   "source": [
    "<img src=\"https://i.ibb.co/hcrKx44/Weekly-Challenge-Banner.png\" >"
   ]
  },
  {
   "cell_type": "markdown",
   "id": "50e7cc56",
   "metadata": {},
   "source": [
    "# Weekly Challenge 1\n",
    "##  Description\n",
    "Welcome to the 1st challenge! This semester, 6 challenges will be proposed, with increasing difficulty:\n",
    "* 2 \"easy\" challenges (challenges 1-2)\n",
    "* 2 \"medium\" challenges (challenges 3-4)\n",
    "* 2 \"hard\" challenges (challenges 5-6)\n",
    "\n",
    "\n",
    "## The task\n",
    "\n",
    "A student in microengineering, Jane Doe has barely started the semester. Yet, she is already preparing her course selection for the next semester (in **Autumn** (Code: **A**)).\n",
    "\n",
    "To become an accomplished and versatile engineer, she decides to look into computer science (code : **CS**), mechanics (code: **ME**) and biology (codes: **BIO** and **BIOENG**) classes, and considers dedicating between **6** and **12** credits (in total) to these fields. \n",
    "\n",
    "**Challenge:** find out the number of possible course selections Jane can choose from the above-mentioned fields (CS/ME/BIO/BIOENG) that total between 6 and 12 credits (including 6 and 12).\n",
    "* For this challenge, you will work on an excerpt from the Microengineering coursebook, available as a CSV file: _MT.plan2021-2022.csv_\n",
    "    * (You can use [Pandas](https://pandas.pydata.org/) to read the file)"
   ]
  },
  {
   "cell_type": "markdown",
   "id": "2daf931e",
   "metadata": {},
   "source": [
    "## Your code"
   ]
  },
  {
   "cell_type": "code",
   "execution_count": 1,
   "id": "524c6b78",
   "metadata": {},
   "outputs": [],
   "source": [
    "#################################################\n",
    "############# YOUR CODE STARTS HERE #############\n",
    "#################################################\n",
    "\n",
    "def count_selections(file='MT.plan2021-2022.csv', min_credits=6, max_credits=12):\n",
    "    \"\"\"Count the number of possible course selections within file\n",
    "       between min_credits and max_credits.\n",
    "    \"\"\"\n",
    "    pass\n",
    "\n",
    "#################################################\n",
    "############## YOUR CODE ENDS HERE ##############\n",
    "#################################################"
   ]
  },
  {
   "cell_type": "markdown",
   "id": "e1832d9f",
   "metadata": {},
   "source": [
    "## Submission\n",
    "\n",
    "Submit your code and answer here: [https://forms.gle/Sdf9JLr1xhHSgSks9](https://forms.gle/Sdf9JLr1xhHSgSks9)."
   ]
  }
 ],
 "metadata": {
  "kernelspec": {
   "display_name": "Python 3 (ipykernel)",
   "language": "python",
   "name": "python3"
  },
  "language_info": {
   "codemirror_mode": {
    "name": "ipython",
    "version": 3
   },
   "file_extension": ".py",
   "mimetype": "text/x-python",
   "name": "python",
   "nbconvert_exporter": "python",
   "pygments_lexer": "ipython3",
   "version": "3.8.12"
  }
 },
 "nbformat": 4,
 "nbformat_minor": 5
}
