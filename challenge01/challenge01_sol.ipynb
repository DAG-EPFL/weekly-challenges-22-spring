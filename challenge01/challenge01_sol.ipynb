{
 "cells": [
  {
   "cell_type": "markdown",
   "id": "9cebc9cf",
   "metadata": {},
   "source": [
    "<img src=\"https://i.ibb.co/hcrKx44/Weekly-Challenge-Banner.png\" >"
   ]
  },
  {
   "cell_type": "markdown",
   "id": "50e7cc56",
   "metadata": {},
   "source": [
    "# Weekly Challenge 1\n",
    "##  Description\n",
    "Welcome to the 1st challenge! This semester, 6 challenges will be proposed, with increasing difficulty:\n",
    "* 2 \"easy\" challenges (challenges 1-2)\n",
    "* 2 \"medium\" challenges (challenges 3-4)\n",
    "* 2 \"hard\" challenges (challenges 5-6)\n",
    "\n",
    "\n",
    "## The task\n",
    "\n",
    "A student in microengineering, Jane Doe has barely started the semester. Yet, she is already preparing her course selection for the next semester (in **Autumn** (Code: **A**)).\n",
    "\n",
    "To become an accomplished and versatile engineer, she decides to look into computer science (code : **CS**), mechanics (code: **ME**) and biology (codes: **BIO** and **BIOENG**) classes, and considers dedicating between **6** and **12** credits (in total) to these fields. \n",
    "\n",
    "**Challenge:** find out the number of possible course selections Jane can choose from the above-mentioned fields (CS/ME/BIO/BIOENG) that total between 6 and 12 credits (including 6 and 12).\n",
    "* For this challenge, you will work on an excerpt from the Microengineering coursebook, available as a CSV file: _MT.plan2021-2022.csv_\n",
    "    * (You can use [Pandas](https://pandas.pydata.org/) to read the file)"
   ]
  },
  {
   "cell_type": "markdown",
   "id": "2daf931e",
   "metadata": {},
   "source": [
    "## Library imports"
   ]
  },
  {
   "cell_type": "code",
   "execution_count": 1,
   "id": "772a809f",
   "metadata": {},
   "outputs": [],
   "source": [
    "from itertools import combinations\n",
    "\n",
    "import pandas as pd"
   ]
  },
  {
   "cell_type": "markdown",
   "id": "b8f4cf42",
   "metadata": {},
   "source": [
    "## Solution 1: using dynamic programming"
   ]
  },
  {
   "cell_type": "code",
   "execution_count": 2,
   "id": "524c6b78",
   "metadata": {},
   "outputs": [],
   "source": [
    "#################################################\n",
    "############# YOUR CODE STARTS HERE #############\n",
    "#################################################\n",
    "\n",
    "def count_selections(file='MT.plan2021-2022.csv', min_credits=6, max_credits=12):\n",
    "    \"\"\"Count the number of possible course selections within file\n",
    "       between min_credits and max_credits.\n",
    "    \"\"\"\n",
    "    df = pd.read_csv(file, sep=';')\n",
    "    coursebook = df[df.Code.str.contains('|'.join(['CS', 'ME', 'BIO'])) & (df.Period == 'A')].Credits.values\n",
    "\n",
    "    res = []\n",
    "\n",
    "    for max_credits in range(min_credits, max_credits+1):\n",
    "        dp = [1] + [0] * max_credits\n",
    "\n",
    "        for n_credits in coursebook:\n",
    "            for j in range(max_credits - n_credits, -1, -1):\n",
    "                if dp[j]:\n",
    "                    dp[n_credits + j] += dp[j]\n",
    "\n",
    "        res.append(dp[max_credits])\n",
    "    \n",
    "    return sum(res)\n",
    "\n",
    "#################################################\n",
    "############## YOUR CODE ENDS HERE ##############\n",
    "#################################################"
   ]
  },
  {
   "cell_type": "code",
   "execution_count": 3,
   "id": "4d63361b",
   "metadata": {},
   "outputs": [
    {
     "data": {
      "text/plain": [
       "32"
      ]
     },
     "execution_count": 3,
     "metadata": {},
     "output_type": "execute_result"
    }
   ],
   "source": [
    "count_selections()"
   ]
  },
  {
   "cell_type": "markdown",
   "id": "a3129d60",
   "metadata": {},
   "source": [
    "## Solution 2: a brute-force version\n",
    "* This version uses the fact that one course is worth a least one credit to generate all possible combinations whose sum could amount from 6 to 12 credits\n",
    "* Of course, such an algorithm will not work for more complex problems or edge-cases."
   ]
  },
  {
   "cell_type": "code",
   "execution_count": 4,
   "id": "8df3be7b",
   "metadata": {},
   "outputs": [],
   "source": [
    "#################################################\n",
    "############# YOUR CODE STARTS HERE #############\n",
    "#################################################\n",
    "\n",
    "def count_selections_v2(file='MT.plan2021-2022.csv', min_credits=6, max_credits=12):\n",
    "    \"\"\"Count the number of possible course selections within file\n",
    "       between min_credits and max_credits.\n",
    "    \"\"\"\n",
    "    res = 0\n",
    "\n",
    "    # Load data\n",
    "    file='MT.plan2021-2022.csv'\n",
    "\n",
    "    df = pd.read_csv(file, sep=';')\n",
    "    coursebook = df[df.Code.str.contains('|'.join(['CS', 'ME', 'BIO'])) & (df.Period == 'A')].Credits.values\n",
    "\n",
    "    for n_credits in range(min_credits, max_credits + 1):\n",
    "        for i in range(1, n_credits + 1):\n",
    "\n",
    "            # Generate all possible combinations of length i\n",
    "            # (1 course is worth at least 1 credit)\n",
    "            all_combinations = combinations(coursebook, i)\n",
    "\n",
    "            # Add the number of combinations for which the sum of credits is n_credits\n",
    "            res += sum(map(lambda x: sum(x) == n_credits, all_combinations))\n",
    "        \n",
    "    return res\n",
    "\n",
    "#################################################\n",
    "############## YOUR CODE ENDS HERE ##############\n",
    "#################################################"
   ]
  },
  {
   "cell_type": "code",
   "execution_count": 6,
   "id": "407996f4",
   "metadata": {},
   "outputs": [
    {
     "data": {
      "text/plain": [
       "32"
      ]
     },
     "execution_count": 6,
     "metadata": {},
     "output_type": "execute_result"
    }
   ],
   "source": [
    "count_selections_v2()"
   ]
  },
  {
   "cell_type": "markdown",
   "id": "e1832d9f",
   "metadata": {},
   "source": [
    "## Submission\n",
    "\n",
    "Submit your code and answer here: [https://forms.gle/Sdf9JLr1xhHSgSks9](https://forms.gle/Sdf9JLr1xhHSgSks9)."
   ]
  }
 ],
 "metadata": {
  "kernelspec": {
   "display_name": "Python 3 (ipykernel)",
   "language": "python",
   "name": "python3"
  },
  "language_info": {
   "codemirror_mode": {
    "name": "ipython",
    "version": 3
   },
   "file_extension": ".py",
   "mimetype": "text/x-python",
   "name": "python",
   "nbconvert_exporter": "python",
   "pygments_lexer": "ipython3",
   "version": "3.8.12"
  }
 },
 "nbformat": 4,
 "nbformat_minor": 5
}
